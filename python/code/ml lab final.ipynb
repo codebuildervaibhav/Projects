{
 "cells": [
  {
   "cell_type": "code",
   "execution_count": 17,
   "id": "0d379ec4",
   "metadata": {},
   "outputs": [
    {
     "name": "stdout",
     "output_type": "stream",
     "text": [
      "enter the String\n",
      "20bcs6495\n",
      "2      50\n",
      "0      48\n",
      "b      98\n",
      "c      99\n",
      "s      115\n",
      "6      54\n",
      "4      52\n",
      "9      57\n",
      "5      53\n"
     ]
    }
   ],
   "source": [
    "print (\"enter the String\")  \n",
    "string = input()  \n",
    "for K in string:  \n",
    "    val = ord(K)  \n",
    "    print (K, \"    \", val)"
   ]
  },
  {
   "cell_type": "code",
   "execution_count": 10,
   "id": "c87101c3",
   "metadata": {},
   "outputs": [
    {
     "name": "stdout",
     "output_type": "stream",
     "text": [
      "A\n",
      "a\n",
      "97\n"
     ]
    }
   ],
   "source": [
    "val = 65\n",
    "print(chr(val))\n",
    "print(chr(val+32))\n",
    "print(ord('a'))"
   ]
  }
 ],
 "metadata": {
  "kernelspec": {
   "display_name": "Python 3 (ipykernel)",
   "language": "python",
   "name": "python3"
  },
  "language_info": {
   "codemirror_mode": {
    "name": "ipython",
    "version": 3
   },
   "file_extension": ".py",
   "mimetype": "text/x-python",
   "name": "python",
   "nbconvert_exporter": "python",
   "pygments_lexer": "ipython3",
   "version": "3.9.6"
  }
 },
 "nbformat": 4,
 "nbformat_minor": 5
}
