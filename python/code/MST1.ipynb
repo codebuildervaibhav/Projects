{
 "cells": [
  {
   "cell_type": "code",
   "execution_count": 7,
   "id": "f498e22c",
   "metadata": {},
   "outputs": [
    {
     "name": "stdout",
     "output_type": "stream",
     "text": [
      "Enter the marks of five subjects::\n",
      "10\n",
      "20\n",
      "30\n",
      "40\n",
      "50\n",
      "\n",
      "The Total marks is:   \t 150 / 500.00\n",
      "\n",
      "The Average marks is: \t 30.0\n",
      "\n",
      "The Percentage is:    \t 30.0 %\n",
      "\n",
      "The Grade is:         \t C\n"
     ]
    }
   ],
   "source": [
    "import array as arr\n",
    "print(\"Enter the marks of five subjects::\")\n",
    "sub = arr.array('i', [0,1,2,3,4])\n",
    "sub[0] = int (input ())\n",
    "sub[1] = int (input ())\n",
    "sub[2] = int (input ())\n",
    "sub[3] = int (input ())\n",
    "sub[4] = int (input ())\n",
    "\n",
    "total, average, percentage, grade = None, None, None, None\n",
    "\n",
    "total = sub[0] + sub[1] + sub[2] + sub[3] + sub[4]\n",
    "average = total / 5.0\n",
    "percentage = (total / 500.0) * 100\n",
    "\n",
    "\n",
    "if average >= 80 :\n",
    "    grade = 'A'\n",
    "elif average >= 50 and average < 80:\n",
    "    grade = 'B'\n",
    "else:\n",
    "    grade = 'C'\n",
    "\n",
    "    \n",
    "print (\"\\nThe Total marks is:   \\t\", total, \"/ 500.00\")\n",
    "print (\"\\nThe Average marks is: \\t\", average)\n",
    "print (\"\\nThe Percentage is:    \\t\", percentage, \"%\")\n",
    "print (\"\\nThe Grade is:         \\t\", grade)"
   ]
  }
 ],
 "metadata": {
  "kernelspec": {
   "display_name": "Python 3 (ipykernel)",
   "language": "python",
   "name": "python3"
  },
  "language_info": {
   "codemirror_mode": {
    "name": "ipython",
    "version": 3
   },
   "file_extension": ".py",
   "mimetype": "text/x-python",
   "name": "python",
   "nbconvert_exporter": "python",
   "pygments_lexer": "ipython3",
   "version": "3.9.6"
  }
 },
 "nbformat": 4,
 "nbformat_minor": 5
}
