{
 "cells": [
  {
   "cell_type": "code",
   "execution_count": null,
   "id": "ef15f2e7",
   "metadata": {},
   "outputs": [],
   "source": [
    "import numpy as n\n",
    "\n",
    "c=n.array(range(11))+5\n",
    "print(c)\n",
    "\n",
    "x=c[3]\n",
    "y=c[-2]\n",
    "z=c[2:8]\n",
    "print(x,y,z)"
   ]
  },
  {
   "cell_type": "code",
   "execution_count": 6,
   "id": "85dafa85",
   "metadata": {},
   "outputs": [
    {
     "name": "stdout",
     "output_type": "stream",
     "text": [
      "hello\n",
      "this is the file that i have created right now.\n",
      "Number of characters in text file : 53\n"
     ]
    }
   ],
   "source": [
    "\n",
    "file = open(\"D:\\data.txt\", \"r\")\n",
    "\n",
    "data = file.read()\n",
    "print(data)\n",
    "nc = len(data)\n",
    "\n",
    "print('Number of characters in text file :', nc )"
   ]
  },
  {
   "cell_type": "code",
   "execution_count": 9,
   "id": "ac9d7806",
   "metadata": {},
   "outputs": [
    {
     "name": "stdout",
     "output_type": "stream",
     "text": [
      "Enter file name: D:\\data.txt\n",
      "2\n",
      "11\n"
     ]
    }
   ],
   "source": [
    "#file = open(\"D:\\data.txt\", \"r\")\n",
    "\n",
    "#data = file.read()\n",
    "fname = input(\"Enter file name: \")\n",
    "nl = 0\n",
    "nw=0\n",
    "with open('D:\\data.txt', 'r') as f:\n",
    "    \n",
    "    for line in f:\n",
    "        nl += 1\n",
    "        words = line.split()\n",
    "        nw += len(words)\n",
    "        \n",
    "print(nl)\n",
    "print(nw)"
   ]
  }
 ],
 "metadata": {
  "kernelspec": {
   "display_name": "Python 3 (ipykernel)",
   "language": "python",
   "name": "python3"
  },
  "language_info": {
   "codemirror_mode": {
    "name": "ipython",
    "version": 3
   },
   "file_extension": ".py",
   "mimetype": "text/x-python",
   "name": "python",
   "nbconvert_exporter": "python",
   "pygments_lexer": "ipython3",
   "version": "3.9.6"
  }
 },
 "nbformat": 4,
 "nbformat_minor": 5
}
