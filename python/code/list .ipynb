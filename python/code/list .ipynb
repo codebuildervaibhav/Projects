{
 "cells": [
  {
   "cell_type": "code",
   "execution_count": 7,
   "id": "24b8389b",
   "metadata": {},
   "outputs": [
    {
     "name": "stdout",
     "output_type": "stream",
     "text": [
      "Happy New Year: Joseph\n",
      "Happy New Year: Glenn\n",
      "Happy New Year: Sally\n",
      "Happy New Year: Joseph\n",
      "Happy New Year: Glenn\n",
      "Happy New Year: Sally\n"
     ]
    }
   ],
   "source": [
    "friends = ['Joseph', 'Glenn', 'Sally']\n",
    "\n",
    "for str in friends :\n",
    "\n",
    "   print ('Happy New Year:', str)\n",
    "\n",
    "for i in range(len(friends)) :\n",
    "\n",
    "   friend = friends[i]\n",
    "\n",
    "   print ('Happy New Year:', friend)"
   ]
  },
  {
   "cell_type": "code",
   "execution_count": 8,
   "id": "9f4ad9d5",
   "metadata": {},
   "outputs": [],
   "source": [
    "# Write a Python program to get the smallest number from a list. (without using any inbuilt function)\n",
    "#Write a Python program to remove duplicates from a list.(without using any inbuilt function)\n",
    "#Write a Python program to check a list is empty or not.\n",
    "#Write a Python program to print a specified list after removing the 0th, 4th and 5th elements.\n",
    "#Sample List : ['Red', 'Green', 'White', 'Black', 'Pink', 'Yellow']\n",
    "#     Expected Output : ['Green', 'White', 'Black']"
   ]
  },
  {
   "cell_type": "code",
   "execution_count": 30,
   "id": "333c90eb",
   "metadata": {},
   "outputs": [
    {
     "name": "stdout",
     "output_type": "stream",
     "text": [
      "minimum 0\n"
     ]
    }
   ],
   "source": [
    "lis = [3,2,3,4,5,6,7,8,9]\n",
    "min,i\n",
    "for i in range(len(lis)) :\n",
    "    if( min>lis[i] ):\n",
    "       min = lis[i]\n",
    "print(\"minimum\", min)\n"
   ]
  },
  {
   "cell_type": "code",
   "execution_count": 33,
   "id": "ddc452cd",
   "metadata": {},
   "outputs": [
    {
     "name": "stdout",
     "output_type": "stream",
     "text": [
      "[2, 4, 10, 20, 5]\n"
     ]
    }
   ],
   "source": [
    "og = [2, 4, 10, 20, 5, 2, 20, 4]\n",
    "i = []\n",
    "for a in duplicate:\n",
    "        if a not in i:\n",
    "            i.append(a)\n",
    "print(i)"
   ]
  },
  {
   "cell_type": "code",
   "execution_count": 35,
   "id": "b479cd8e",
   "metadata": {},
   "outputs": [
    {
     "name": "stdout",
     "output_type": "stream",
     "text": [
      "the list is empty \n"
     ]
    }
   ],
   "source": [
    "list = []\n",
    "if len(list)==0:\n",
    "    print(\"the list is empty \")\n",
    "else :\n",
    "    print(\"the list is not empty\")"
   ]
  },
  {
   "cell_type": "code",
   "execution_count": null,
   "id": "dc5d0037",
   "metadata": {},
   "outputs": [],
   "source": []
  }
 ],
 "metadata": {
  "kernelspec": {
   "display_name": "Python 3 (ipykernel)",
   "language": "python",
   "name": "python3"
  },
  "language_info": {
   "codemirror_mode": {
    "name": "ipython",
    "version": 3
   },
   "file_extension": ".py",
   "mimetype": "text/x-python",
   "name": "python",
   "nbconvert_exporter": "python",
   "pygments_lexer": "ipython3",
   "version": "3.9.6"
  }
 },
 "nbformat": 4,
 "nbformat_minor": 5
}
