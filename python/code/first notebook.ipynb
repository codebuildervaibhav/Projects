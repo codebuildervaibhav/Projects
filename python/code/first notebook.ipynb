{
 "cells": [
  {
   "cell_type": "code",
   "execution_count": 1,
   "id": "baec6ec4",
   "metadata": {},
   "outputs": [
    {
     "name": "stdout",
     "output_type": "stream",
     "text": [
      "hello\n",
      "hello\n",
      "hello\n",
      "\n"
     ]
    }
   ],
   "source": [
    "print(\"hello\\n\" *3);"
   ]
  },
  {
   "cell_type": "markdown",
   "id": "55dad9af",
   "metadata": {},
   "source": [
    "Hello World\n",
    "\n"
   ]
  },
  {
   "cell_type": "markdown",
   "id": "fa40e9f0",
   "metadata": {},
   "source": [
    "awdawd awd\n"
   ]
  },
  {
   "cell_type": "markdown",
   "id": "e1af2f15",
   "metadata": {},
   "source": [
    "print(\"hello\\n\" *3);\n",
    "\n"
   ]
  },
  {
   "cell_type": "code",
   "execution_count": 6,
   "id": "9ede374c",
   "metadata": {},
   "outputs": [],
   "source": [
    "#comments\n"
   ]
  },
  {
   "cell_type": "code",
   "execution_count": 2,
   "id": "47519bb4",
   "metadata": {},
   "outputs": [
    {
     "name": "stdout",
     "output_type": "stream",
     "text": [
      "+ve\n",
      "div by 5\n"
     ]
    }
   ],
   "source": [
    "f=10;\n",
    "\n",
    "if f>0 :\n",
    "    print(\"+ve\");\n",
    "    if f%5 ==0 :\n",
    "        print (\"div by 5\");\n",
    "\n",
    "else :\n",
    "    print(\"-ve\");\n"
   ]
  },
  {
   "cell_type": "code",
   "execution_count": 3,
   "id": "239bc28b",
   "metadata": {},
   "outputs": [
    {
     "name": "stdout",
     "output_type": "stream",
     "text": [
      "p\n",
      "y\n",
      "t\n",
      "h\n",
      "o\n",
      "n\n"
     ]
    }
   ],
   "source": [
    "for i in \"python\" :\n",
    "    print(i)\n"
   ]
  },
  {
   "cell_type": "code",
   "execution_count": 5,
   "id": "c2b6fac5",
   "metadata": {},
   "outputs": [
    {
     "name": "stdout",
     "output_type": "stream",
     "text": [
      "10\n",
      "9\n",
      "8\n",
      "7\n",
      "6\n",
      "5\n",
      "4\n",
      "3\n",
      "2\n",
      "1\n"
     ]
    }
   ],
   "source": [
    "a= 10;\n",
    "while a>0 :\n",
    "    print(a);\n",
    "    a-=1;"
   ]
  },
  {
   "cell_type": "code",
   "execution_count": 6,
   "id": "83ffc1ac",
   "metadata": {},
   "outputs": [
    {
     "name": "stdout",
     "output_type": "stream",
     "text": [
      "2\n",
      "3\n",
      "4\n",
      "5\n",
      "6\n",
      "7\n",
      "8\n",
      "9\n"
     ]
    }
   ],
   "source": [
    "for i in range(2 , 10):\n",
    "    print(i);"
   ]
  },
  {
   "cell_type": "code",
   "execution_count": 8,
   "id": "16959d7f",
   "metadata": {},
   "outputs": [
    {
     "name": "stdout",
     "output_type": "stream",
     "text": [
      "2\n",
      "4\n",
      "6\n",
      "8\n"
     ]
    }
   ],
   "source": [
    "for i in range(2 , 10, 2 ):\n",
    "    print(i);"
   ]
  },
  {
   "cell_type": "code",
   "execution_count": 13,
   "id": "c86b2775",
   "metadata": {},
   "outputs": [
    {
     "name": "stdout",
     "output_type": "stream",
     "text": [
      "0.4762\n"
     ]
    }
   ],
   "source": [
    "a = 10 \n",
    "b = 21\n",
    "print(\"%0.4f\" %(a/b));"
   ]
  },
  {
   "cell_type": "code",
   "execution_count": null,
   "id": "3260674e",
   "metadata": {},
   "outputs": [],
   "source": []
  },
  {
   "cell_type": "code",
   "execution_count": 1,
   "id": "bb21ea34",
   "metadata": {},
   "outputs": [
    {
     "ename": "SyntaxError",
     "evalue": "invalid syntax (Temp/ipykernel_22012/222082413.py, line 5)",
     "output_type": "error",
     "traceback": [
      "\u001b[1;36m  File \u001b[1;32m\"C:\\Users\\vaibh\\AppData\\Local\\Temp/ipykernel_22012/222082413.py\"\u001b[1;36m, line \u001b[1;32m5\u001b[0m\n\u001b[1;33m    int c =a+b\u001b[0m\n\u001b[1;37m        ^\u001b[0m\n\u001b[1;31mSyntaxError\u001b[0m\u001b[1;31m:\u001b[0m invalid syntax\n"
     ]
    }
   ],
   "source": [
    "a=0\n",
    "b=0\n",
    "a=int(input())\n",
    "b=int(input())\n",
    "int c =a+b\n",
    "print(\"sum =\",c)\n",
    "int s=a-b\n",
    "print(\"diffrence =\", s)\n",
    "int m=a%b\n",
    "print(\"modulus\" , m)\n",
    "    \n",
    "    "
   ]
  },
  {
   "cell_type": "code",
   "execution_count": null,
   "id": "56dd81e7",
   "metadata": {},
   "outputs": [],
   "source": []
  }
 ],
 "metadata": {
  "kernelspec": {
   "display_name": "Python 3 (ipykernel)",
   "language": "python",
   "name": "python3"
  },
  "language_info": {
   "codemirror_mode": {
    "name": "ipython",
    "version": 3
   },
   "file_extension": ".py",
   "mimetype": "text/x-python",
   "name": "python",
   "nbconvert_exporter": "python",
   "pygments_lexer": "ipython3",
   "version": "3.9.6"
  }
 },
 "nbformat": 4,
 "nbformat_minor": 5
}
