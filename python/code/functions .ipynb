{
 "cells": [
  {
   "cell_type": "code",
   "execution_count": 2,
   "id": "d81eb7c9",
   "metadata": {},
   "outputs": [],
   "source": [
    "def sheldon_knock():\n",
    "    print(\"knock knock\")\n",
    "    print(\"knock knock\")\n",
    "    print(\"knock knock\")\n"
   ]
  },
  {
   "cell_type": "code",
   "execution_count": 3,
   "id": "0a6d810f",
   "metadata": {},
   "outputs": [
    {
     "name": "stdout",
     "output_type": "stream",
     "text": [
      "knock knock\n",
      "knock knock\n",
      "knock knock\n",
      "30\n",
      "0\n",
      "1\n",
      "2\n",
      "3\n",
      "4\n",
      "5\n",
      "6\n",
      "7\n",
      "8\n",
      "9\n",
      "knock knock\n",
      "knock knock\n",
      "knock knock\n"
     ]
    }
   ],
   "source": [
    "sheldon_knock()\n",
    "print(10+20)\n",
    "for i in range(10):\n",
    "    print(i)\n",
    "sheldon_knock()"
   ]
  },
  {
   "cell_type": "code",
   "execution_count": 17,
   "id": "2822ffb7",
   "metadata": {},
   "outputs": [],
   "source": [
    "def sheldon_knock(name, nos=4):\n",
    "    for i in range(nos):\n",
    "        print(\"knock knock {} \".format(name))"
   ]
  },
  {
   "cell_type": "code",
   "execution_count": 19,
   "id": "81708ab5",
   "metadata": {},
   "outputs": [
    {
     "name": "stdout",
     "output_type": "stream",
     "text": [
      "knock knock penny \n",
      "knock knock penny \n"
     ]
    }
   ],
   "source": [
    "sheldon_knock(\"penny\",2)"
   ]
  },
  {
   "cell_type": "code",
   "execution_count": 22,
   "id": "96e09df9",
   "metadata": {},
   "outputs": [],
   "source": [
    "def add(a,b):\n",
    "    return a+b"
   ]
  },
  {
   "cell_type": "code",
   "execution_count": 24,
   "id": "0abdb151",
   "metadata": {},
   "outputs": [
    {
     "name": "stdout",
     "output_type": "stream",
     "text": [
      "7\n"
     ]
    }
   ],
   "source": [
    "x= add(3,4)\n",
    "print (x)"
   ]
  },
  {
   "cell_type": "code",
   "execution_count": 39,
   "id": "565f67d5",
   "metadata": {},
   "outputs": [],
   "source": [
    "def div(a,b):\n",
    "    try:\n",
    "        return a/b\n",
    "    except:\n",
    "        print('Error')\n",
    "    finally:\n",
    "        print('Wrapping Up')\n",
    "        return 10"
   ]
  },
  {
   "cell_type": "code",
   "execution_count": 40,
   "id": "166f26f3",
   "metadata": {},
   "outputs": [
    {
     "name": "stdout",
     "output_type": "stream",
     "text": [
      "Wrapping Up\n"
     ]
    },
    {
     "data": {
      "text/plain": [
       "10"
      ]
     },
     "execution_count": 40,
     "metadata": {},
     "output_type": "execute_result"
    }
   ],
   "source": [
    "div(10,2)"
   ]
  },
  {
   "cell_type": "code",
   "execution_count": 41,
   "id": "2c90c6a7",
   "metadata": {},
   "outputs": [
    {
     "name": "stdout",
     "output_type": "stream",
     "text": [
      "Error\n",
      "Wrapping Up\n"
     ]
    },
    {
     "data": {
      "text/plain": [
       "10"
      ]
     },
     "execution_count": 41,
     "metadata": {},
     "output_type": "execute_result"
    }
   ],
   "source": [
    "div(10,0)"
   ]
  },
  {
   "cell_type": "code",
   "execution_count": 48,
   "id": "f68c3138",
   "metadata": {},
   "outputs": [],
   "source": [
    "x = 10\n",
    "def show():\n",
    "    y=\"local\"\n",
    "    print(x)\n",
    "    print(y)"
   ]
  },
  {
   "cell_type": "code",
   "execution_count": 59,
   "id": "fc3cd7cc",
   "metadata": {},
   "outputs": [],
   "source": [
    "#enclosures"
   ]
  },
  {
   "cell_type": "code",
   "execution_count": 75,
   "id": "2c7fcaca",
   "metadata": {},
   "outputs": [],
   "source": [
    "x=10\n",
    "def outer():\n",
    "    x = 10\n",
    "    \n",
    "    def inner():\n",
    "        nonlocal x\n",
    "        x +=5\n",
    "        print(x)\n",
    "    \n",
    "    inner()\n",
    "    print(x)"
   ]
  },
  {
   "cell_type": "code",
   "execution_count": 76,
   "id": "d073c9f3",
   "metadata": {},
   "outputs": [
    {
     "name": "stdout",
     "output_type": "stream",
     "text": [
      "15\n",
      "15\n"
     ]
    }
   ],
   "source": [
    "outer()"
   ]
  },
  {
   "cell_type": "code",
   "execution_count": 6,
   "id": "75d887e7",
   "metadata": {},
   "outputs": [],
   "source": [
    "def abc( a , b ,c,d=10, e=11):\n",
    "    {\n",
    "        \n",
    "    }"
   ]
  },
  {
   "cell_type": "code",
   "execution_count": 11,
   "id": "d09d18d8",
   "metadata": {},
   "outputs": [],
   "source": [
    "def show( a,b,c,d= \"smething\" , e=\"moreee\"):\n",
    "        print(a)\n",
    "        print(b)\n",
    "        print(c)\n",
    "        print(d)\n",
    "        print(e)\n",
    "        print(a)"
   ]
  },
  {
   "cell_type": "code",
   "execution_count": 9,
   "id": "3713b956",
   "metadata": {},
   "outputs": [
    {
     "name": "stdout",
     "output_type": "stream",
     "text": [
      "aaa\n",
      "bbbb\n",
      "cccccc\n",
      "smething\n",
      "moreee\n",
      "aaa\n"
     ]
    }
   ],
   "source": [
    "show(a='aaa', b='bbbb', c='cccccc')"
   ]
  },
  {
   "cell_type": "code",
   "execution_count": 13,
   "id": "2917b05b",
   "metadata": {},
   "outputs": [],
   "source": [
    "print?"
   ]
  },
  {
   "cell_type": "code",
   "execution_count": 15,
   "id": "1f621851",
   "metadata": {},
   "outputs": [],
   "source": [
    "def show( a , b  , c ,*args ,d=10 , **kd):\n",
    "    print(a)\n",
    "    print(b)\n",
    "    print(c)\n",
    "    print(args)\n",
    "    print(d)\n",
    "    print(kd)"
   ]
  },
  {
   "cell_type": "code",
   "execution_count": 23,
   "id": "4cd947d7",
   "metadata": {},
   "outputs": [
    {
     "name": "stdout",
     "output_type": "stream",
     "text": [
      "10\n",
      "11\n",
      "12\n",
      "('asdf', 'asdadasd')\n",
      "{'d': 100, 'name': 'asdsdadsd'}\n"
     ]
    }
   ],
   "source": [
    "show( 10, 11 , 12 , \"asdf\",'asdadasd'  ,d=100,  name= \"asdsdadsd\")"
   ]
  },
  {
   "cell_type": "markdown",
   "id": "b622de54",
   "metadata": {},
   "source": [
    "# lamda functions"
   ]
  },
  {
   "cell_type": "code",
   "execution_count": 25,
   "id": "e62c6024",
   "metadata": {},
   "outputs": [],
   "source": [
    "def add(a, b):\n",
    "    return(a+b)"
   ]
  },
  {
   "cell_type": "code",
   "execution_count": 26,
   "id": "f1fb8e02",
   "metadata": {},
   "outputs": [
    {
     "name": "stdout",
     "output_type": "stream",
     "text": [
      "<function add at 0x000001D409683CA0>\n"
     ]
    }
   ],
   "source": [
    "print(add)"
   ]
  },
  {
   "cell_type": "code",
   "execution_count": 27,
   "id": "f6b5f9a8",
   "metadata": {},
   "outputs": [
    {
     "data": {
      "text/plain": [
       "3"
      ]
     },
     "execution_count": 27,
     "metadata": {},
     "output_type": "execute_result"
    }
   ],
   "source": [
    "add(1,2)"
   ]
  },
  {
   "cell_type": "code",
   "execution_count": 28,
   "id": "b4f3aa90",
   "metadata": {},
   "outputs": [],
   "source": [
    "addl= lambda a,b: a+b\n"
   ]
  },
  {
   "cell_type": "code",
   "execution_count": 29,
   "id": "b1a385f7",
   "metadata": {},
   "outputs": [
    {
     "data": {
      "text/plain": [
       "5"
      ]
     },
     "execution_count": 29,
     "metadata": {},
     "output_type": "execute_result"
    }
   ],
   "source": [
    "addl(2,3)"
   ]
  },
  {
   "cell_type": "code",
   "execution_count": 42,
   "id": "1b8600e4",
   "metadata": {},
   "outputs": [],
   "source": [
    "a= [ ( 'one ' ,1), ('two',2) , ('three',3),('four',4),('five',5)]"
   ]
  },
  {
   "cell_type": "code",
   "execution_count": 50,
   "id": "9a207d0c",
   "metadata": {},
   "outputs": [
    {
     "name": "stdout",
     "output_type": "stream",
     "text": [
      "[('five', 5), ('four', 4), ('one ', 1), ('three', 3), ('two', 2)]\n"
     ]
    }
   ],
   "source": [
    "a.sort()\n",
    "print(a)"
   ]
  },
  {
   "cell_type": "code",
   "execution_count": 51,
   "id": "59e46c51",
   "metadata": {},
   "outputs": [
    {
     "data": {
      "text/plain": [
       "[('one ', 1), ('two', 2), ('three', 3), ('four', 4), ('five', 5)]"
      ]
     },
     "execution_count": 51,
     "metadata": {},
     "output_type": "execute_result"
    }
   ],
   "source": [
    "sorted(a, key= lambda x: x[1])\n"
   ]
  },
  {
   "cell_type": "code",
   "execution_count": 52,
   "id": "cbeea877",
   "metadata": {},
   "outputs": [
    {
     "name": "stdout",
     "output_type": "stream",
     "text": [
      "[('five', 5), ('four', 4), ('one ', 1), ('three', 3), ('two', 2)]\n"
     ]
    }
   ],
   "source": [
    "print(a)"
   ]
  },
  {
   "cell_type": "code",
   "execution_count": null,
   "id": "109e371c",
   "metadata": {},
   "outputs": [],
   "source": []
  },
  {
   "cell_type": "code",
   "execution_count": 3,
   "id": "f9f7ae45",
   "metadata": {},
   "outputs": [],
   "source": [
    "users={  \n",
    "    'vaibhav':'pass',\n",
    "    'admin':'pass'\n",
    "}"
   ]
  },
  {
   "cell_type": "code",
   "execution_count": 4,
   "id": "f39481ca",
   "metadata": {},
   "outputs": [],
   "source": [
    "def show(username,password):\n",
    "    if username in users and users[username] ==password:\n",
    "        print(\"allowed\")\n",
    "    else:\n",
    "        print(\"Denied\")\n",
    "        "
   ]
  },
  {
   "cell_type": "code",
   "execution_count": 6,
   "id": "dcc7e05e",
   "metadata": {},
   "outputs": [
    {
     "name": "stdout",
     "output_type": "stream",
     "text": [
      "allowed\n"
     ]
    }
   ],
   "source": [
    "show('vaibhav','pass')"
   ]
  },
  {
   "cell_type": "code",
   "execution_count": null,
   "id": "165da435",
   "metadata": {},
   "outputs": [],
   "source": []
  },
  {
   "cell_type": "code",
   "execution_count": 10,
   "id": "e9436f97",
   "metadata": {},
   "outputs": [],
   "source": [
    "def add( username , password , a, b):\n",
    "    if username in users and users[username]==password:\n",
    "        return(a+b)\n",
    "    else:\n",
    "        print('not authenticated')"
   ]
  },
  {
   "cell_type": "code",
   "execution_count": 11,
   "id": "e47b36ad",
   "metadata": {},
   "outputs": [
    {
     "data": {
      "text/plain": [
       "4"
      ]
     },
     "execution_count": 11,
     "metadata": {},
     "output_type": "execute_result"
    }
   ],
   "source": [
    "add('vaibhav', 'pass', 3,1)"
   ]
  },
  {
   "cell_type": "code",
   "execution_count": 13,
   "id": "c6df2b19",
   "metadata": {},
   "outputs": [],
   "source": [
    "def login_required(func):\n",
    "    def wrapper(username,password, *args, **kwargs):\n",
    "        if username in users and users[username]==password:\n",
    "          func(*args,**kwargs)  \n",
    "        else:\n",
    "            print(\"not authenticated\")\n",
    "    return wrapper"
   ]
  },
  {
   "cell_type": "code",
   "execution_count": 31,
   "id": "11ea1fbd",
   "metadata": {},
   "outputs": [],
   "source": [
    "def add(a,b):\n",
    "    print(a+b)"
   ]
  },
  {
   "cell_type": "code",
   "execution_count": 32,
   "id": "f9c4d93f",
   "metadata": {},
   "outputs": [
    {
     "name": "stdout",
     "output_type": "stream",
     "text": [
      "3\n"
     ]
    }
   ],
   "source": [
    "add(1,2)"
   ]
  },
  {
   "cell_type": "code",
   "execution_count": 33,
   "id": "a0a177b5",
   "metadata": {},
   "outputs": [],
   "source": [
    "protected_add = login_required(add)"
   ]
  },
  {
   "cell_type": "code",
   "execution_count": 34,
   "id": "f00ead8e",
   "metadata": {},
   "outputs": [
    {
     "name": "stdout",
     "output_type": "stream",
     "text": [
      "3\n"
     ]
    }
   ],
   "source": [
    "protected_add( \"vaibhav\",\"pass\" , 1 , 2)"
   ]
  },
  {
   "cell_type": "code",
   "execution_count": 38,
   "id": "d3d2ffa3",
   "metadata": {},
   "outputs": [
    {
     "name": "stdout",
     "output_type": "stream",
     "text": [
      "<function login_required.<locals>.wrapper at 0x00000276208478B0>\n"
     ]
    }
   ],
   "source": [
    "print(protected_add)"
   ]
  },
  {
   "cell_type": "markdown",
   "id": "b5adb338",
   "metadata": {},
   "source": [
    "# decorators"
   ]
  },
  {
   "cell_type": "code",
   "execution_count": 39,
   "id": "99adcaa2",
   "metadata": {},
   "outputs": [],
   "source": [
    "def add(a,b):\n",
    "    print(a+b)\n",
    "add=login_required(add)"
   ]
  },
  {
   "cell_type": "code",
   "execution_count": 41,
   "id": "d510ca17",
   "metadata": {},
   "outputs": [],
   "source": [
    "@login_required\n",
    "def add(a,b):\n",
    "    print(a+b)"
   ]
  },
  {
   "cell_type": "code",
   "execution_count": 42,
   "id": "04910880",
   "metadata": {},
   "outputs": [
    {
     "name": "stdout",
     "output_type": "stream",
     "text": [
      "3\n"
     ]
    }
   ],
   "source": [
    "add(\"vaibhav\",\"pass\",1,2)"
   ]
  },
  {
   "cell_type": "code",
   "execution_count": 45,
   "id": "05c0eead",
   "metadata": {},
   "outputs": [],
   "source": [
    "def fun(a,b,*x,**y):\n",
    "    print(a)\n",
    "    print(b)\n",
    "    print(x)\n",
    "    print(type(x))\n",
    "    print(y)\n",
    "    print(type(y))\n",
    "    \n",
    "    for k in y:\n",
    "        print(k,y[k])"
   ]
  },
  {
   "cell_type": "code",
   "execution_count": 46,
   "id": "5ad9ecbc",
   "metadata": {},
   "outputs": [
    {
     "name": "stdout",
     "output_type": "stream",
     "text": [
      "1\n",
      "2\n",
      "(3, 4, 5, 6)\n",
      "<class 'tuple'>\n",
      "{'shake': 'oreo', 'drink': 'lemonade', 'fruit': 'mango'}\n",
      "<class 'dict'>\n",
      "shake oreo\n",
      "drink lemonade\n",
      "fruit mango\n"
     ]
    }
   ],
   "source": [
    "fun(1,2,3,4,5,6, shake='oreo', drink='lemonade', fruit='mango')"
   ]
  },
  {
   "cell_type": "code",
   "execution_count": null,
   "id": "6dac82c2",
   "metadata": {},
   "outputs": [],
   "source": []
  },
  {
   "cell_type": "markdown",
   "id": "37329793",
   "metadata": {},
   "source": [
    "# dict"
   ]
  },
  {
   "cell_type": "code",
   "execution_count": null,
   "id": "863e9de1",
   "metadata": {},
   "outputs": [],
   "source": []
  },
  {
   "cell_type": "code",
   "execution_count": 1,
   "id": "42ff9e99",
   "metadata": {},
   "outputs": [],
   "source": [
    "students=[]"
   ]
  },
  {
   "cell_type": "code",
   "execution_count": 2,
   "id": "b1ed6dc5",
   "metadata": {},
   "outputs": [
    {
     "name": "stdout",
     "output_type": "stream",
     "text": [
      "2\n"
     ]
    }
   ],
   "source": [
    "n= int(input())"
   ]
  },
  {
   "cell_type": "code",
   "execution_count": 3,
   "id": "f93c5595",
   "metadata": {},
   "outputs": [
    {
     "name": "stdout",
     "output_type": "stream",
     "text": [
      "1\n",
      "vsr\n",
      "cse\n",
      "2\n",
      "asr\n",
      "cse\n"
     ]
    }
   ],
   "source": [
    "for i in range(n):\n",
    "    roll=int(input())\n",
    "    name=input()\n",
    "    branch=input()\n",
    "    students.append({\n",
    "        \"roll-no\": roll,\n",
    "        \"name\":name,\n",
    "        \"branch\":branch\n",
    "        \n",
    "    })"
   ]
  },
  {
   "cell_type": "code",
   "execution_count": 4,
   "id": "cf086bee",
   "metadata": {},
   "outputs": [
    {
     "data": {
      "text/plain": [
       "[{'roll-no': 1, 'name': 'vsr', 'branch': 'cse'},\n",
       " {'roll-no': 2, 'name': 'asr', 'branch': 'cse'}]"
      ]
     },
     "execution_count": 4,
     "metadata": {},
     "output_type": "execute_result"
    }
   ],
   "source": [
    "students"
   ]
  },
  {
   "cell_type": "code",
   "execution_count": null,
   "id": "02d07e92",
   "metadata": {},
   "outputs": [],
   "source": []
  }
 ],
 "metadata": {
  "kernelspec": {
   "display_name": "Python 3 (ipykernel)",
   "language": "python",
   "name": "python3"
  },
  "language_info": {
   "codemirror_mode": {
    "name": "ipython",
    "version": 3
   },
   "file_extension": ".py",
   "mimetype": "text/x-python",
   "name": "python",
   "nbconvert_exporter": "python",
   "pygments_lexer": "ipython3",
   "version": "3.9.6"
  }
 },
 "nbformat": 4,
 "nbformat_minor": 5
}
